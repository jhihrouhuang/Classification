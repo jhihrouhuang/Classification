{
 "cells": [
  {
   "cell_type": "code",
   "execution_count": 1,
   "metadata": {},
   "outputs": [],
   "source": [
    "import pandas as pd\n",
    "import numpy as np\n",
    "import matplotlib.pyplot as plt\n",
    "import seaborn as sns\n",
    "%matplotlib inline\n",
    "from sklearn.model_selection import train_test_split\n",
    "from sklearn.preprocessing import StandardScaler\n",
    "from sklearn.linear_model import LogisticRegression\n",
    "from sklearn.metrics import classification_report\n",
    "from sklearn.metrics import precision_score, recall_score, precision_recall_curve,f1_score, fbeta_score\n",
    "from sklearn.metrics import confusion_matrix\n",
    "from sklearn.metrics import roc_auc_score, roc_curve\n",
    "from sklearn.metrics import roc_curve, auc"
   ]
  },
  {
   "cell_type": "code",
   "execution_count": 2,
   "metadata": {},
   "outputs": [
    {
     "data": {
      "text/html": [
       "<div>\n",
       "<style scoped>\n",
       "    .dataframe tbody tr th:only-of-type {\n",
       "        vertical-align: middle;\n",
       "    }\n",
       "\n",
       "    .dataframe tbody tr th {\n",
       "        vertical-align: top;\n",
       "    }\n",
       "\n",
       "    .dataframe thead th {\n",
       "        text-align: right;\n",
       "    }\n",
       "</style>\n",
       "<table border=\"1\" class=\"dataframe\">\n",
       "  <thead>\n",
       "    <tr style=\"text-align: right;\">\n",
       "      <th></th>\n",
       "      <th>Unnamed: 0</th>\n",
       "      <th>squareMeters</th>\n",
       "      <th>numberOfRooms</th>\n",
       "      <th>hasYard</th>\n",
       "      <th>hasPool</th>\n",
       "      <th>floors</th>\n",
       "      <th>cityCode</th>\n",
       "      <th>cityPartRange</th>\n",
       "      <th>numPrevOwners</th>\n",
       "      <th>made</th>\n",
       "      <th>...</th>\n",
       "      <th>basement</th>\n",
       "      <th>attic</th>\n",
       "      <th>garage</th>\n",
       "      <th>hasStorageRoom</th>\n",
       "      <th>hasGuestRoom</th>\n",
       "      <th>price</th>\n",
       "      <th>category</th>\n",
       "      <th>Luxury</th>\n",
       "      <th>PricePerSquareMeters</th>\n",
       "      <th>YearsOld</th>\n",
       "    </tr>\n",
       "  </thead>\n",
       "  <tbody>\n",
       "    <tr>\n",
       "      <th>0</th>\n",
       "      <td>0</td>\n",
       "      <td>75523</td>\n",
       "      <td>3</td>\n",
       "      <td>0</td>\n",
       "      <td>1</td>\n",
       "      <td>63</td>\n",
       "      <td>9373</td>\n",
       "      <td>3</td>\n",
       "      <td>8</td>\n",
       "      <td>2005</td>\n",
       "      <td>...</td>\n",
       "      <td>4313</td>\n",
       "      <td>9005</td>\n",
       "      <td>956</td>\n",
       "      <td>0</td>\n",
       "      <td>7</td>\n",
       "      <td>7559081.5</td>\n",
       "      <td>Basic</td>\n",
       "      <td>0</td>\n",
       "      <td>100.089794</td>\n",
       "      <td>16</td>\n",
       "    </tr>\n",
       "    <tr>\n",
       "      <th>1</th>\n",
       "      <td>1</td>\n",
       "      <td>80771</td>\n",
       "      <td>39</td>\n",
       "      <td>1</td>\n",
       "      <td>1</td>\n",
       "      <td>98</td>\n",
       "      <td>39381</td>\n",
       "      <td>8</td>\n",
       "      <td>6</td>\n",
       "      <td>2015</td>\n",
       "      <td>...</td>\n",
       "      <td>3653</td>\n",
       "      <td>2436</td>\n",
       "      <td>128</td>\n",
       "      <td>1</td>\n",
       "      <td>2</td>\n",
       "      <td>8085989.5</td>\n",
       "      <td>Luxury</td>\n",
       "      <td>1</td>\n",
       "      <td>100.110058</td>\n",
       "      <td>6</td>\n",
       "    </tr>\n",
       "    <tr>\n",
       "      <th>2</th>\n",
       "      <td>2</td>\n",
       "      <td>55712</td>\n",
       "      <td>58</td>\n",
       "      <td>0</td>\n",
       "      <td>1</td>\n",
       "      <td>19</td>\n",
       "      <td>34457</td>\n",
       "      <td>6</td>\n",
       "      <td>8</td>\n",
       "      <td>2021</td>\n",
       "      <td>...</td>\n",
       "      <td>2937</td>\n",
       "      <td>8852</td>\n",
       "      <td>135</td>\n",
       "      <td>1</td>\n",
       "      <td>9</td>\n",
       "      <td>5574642.1</td>\n",
       "      <td>Basic</td>\n",
       "      <td>0</td>\n",
       "      <td>100.061784</td>\n",
       "      <td>0</td>\n",
       "    </tr>\n",
       "    <tr>\n",
       "      <th>3</th>\n",
       "      <td>3</td>\n",
       "      <td>32316</td>\n",
       "      <td>47</td>\n",
       "      <td>0</td>\n",
       "      <td>0</td>\n",
       "      <td>6</td>\n",
       "      <td>27939</td>\n",
       "      <td>10</td>\n",
       "      <td>4</td>\n",
       "      <td>2012</td>\n",
       "      <td>...</td>\n",
       "      <td>659</td>\n",
       "      <td>7141</td>\n",
       "      <td>359</td>\n",
       "      <td>0</td>\n",
       "      <td>3</td>\n",
       "      <td>3232561.2</td>\n",
       "      <td>Basic</td>\n",
       "      <td>0</td>\n",
       "      <td>100.029744</td>\n",
       "      <td>9</td>\n",
       "    </tr>\n",
       "    <tr>\n",
       "      <th>4</th>\n",
       "      <td>4</td>\n",
       "      <td>70429</td>\n",
       "      <td>19</td>\n",
       "      <td>1</td>\n",
       "      <td>1</td>\n",
       "      <td>90</td>\n",
       "      <td>38045</td>\n",
       "      <td>3</td>\n",
       "      <td>7</td>\n",
       "      <td>1990</td>\n",
       "      <td>...</td>\n",
       "      <td>8435</td>\n",
       "      <td>2429</td>\n",
       "      <td>292</td>\n",
       "      <td>1</td>\n",
       "      <td>4</td>\n",
       "      <td>7055052.0</td>\n",
       "      <td>Luxury</td>\n",
       "      <td>1</td>\n",
       "      <td>100.172543</td>\n",
       "      <td>31</td>\n",
       "    </tr>\n",
       "  </tbody>\n",
       "</table>\n",
       "<p>5 rows × 22 columns</p>\n",
       "</div>"
      ],
      "text/plain": [
       "   Unnamed: 0  squareMeters  numberOfRooms  hasYard  hasPool  floors  \\\n",
       "0           0         75523              3        0        1      63   \n",
       "1           1         80771             39        1        1      98   \n",
       "2           2         55712             58        0        1      19   \n",
       "3           3         32316             47        0        0       6   \n",
       "4           4         70429             19        1        1      90   \n",
       "\n",
       "   cityCode  cityPartRange  numPrevOwners  made  ...  basement  attic  garage  \\\n",
       "0      9373              3              8  2005  ...      4313   9005     956   \n",
       "1     39381              8              6  2015  ...      3653   2436     128   \n",
       "2     34457              6              8  2021  ...      2937   8852     135   \n",
       "3     27939             10              4  2012  ...       659   7141     359   \n",
       "4     38045              3              7  1990  ...      8435   2429     292   \n",
       "\n",
       "   hasStorageRoom  hasGuestRoom      price  category  Luxury  \\\n",
       "0               0             7  7559081.5     Basic       0   \n",
       "1               1             2  8085989.5    Luxury       1   \n",
       "2               1             9  5574642.1     Basic       0   \n",
       "3               0             3  3232561.2     Basic       0   \n",
       "4               1             4  7055052.0    Luxury       1   \n",
       "\n",
       "  PricePerSquareMeters  YearsOld  \n",
       "0           100.089794        16  \n",
       "1           100.110058         6  \n",
       "2           100.061784         0  \n",
       "3           100.029744         9  \n",
       "4           100.172543        31  \n",
       "\n",
       "[5 rows x 22 columns]"
      ]
     },
     "execution_count": 2,
     "metadata": {},
     "output_type": "execute_result"
    }
   ],
   "source": [
    "df = pd.read_csv('data_cleaning.csv')\n",
    "df.head()"
   ]
  },
  {
   "cell_type": "code",
   "execution_count": 3,
   "metadata": {},
   "outputs": [
    {
     "name": "stdout",
     "output_type": "stream",
     "text": [
      "0    8735\n",
      "1    1265\n",
      "Name: Luxury, dtype: int64\n"
     ]
    },
    {
     "name": "stderr",
     "output_type": "stream",
     "text": [
      "c:\\users\\15107\\appdata\\local\\programs\\python\\python37\\lib\\site-packages\\seaborn\\_decorators.py:43: FutureWarning: Pass the following variable as a keyword arg: x. From version 0.12, the only valid positional argument will be `data`, and passing other arguments without an explicit keyword will result in an error or misinterpretation.\n",
      "  FutureWarning\n"
     ]
    },
    {
     "data": {
      "text/plain": [
       "<AxesSubplot:xlabel='Luxury', ylabel='count'>"
      ]
     },
     "execution_count": 3,
     "metadata": {},
     "output_type": "execute_result"
    },
    {
     "data": {
      "image/png": "[encoded data removed]",
      "text/plain": [
       "<Figure size 432x288 with 1 Axes>"
      ]
     },
     "metadata": {
      "needs_background": "light"
     },
     "output_type": "display_data"
    }
   ],
   "source": [
    "# Class imbalance\n",
    "print(df.Luxury.value_counts())\n",
    "sns.countplot(df.Luxury)"
   ]
  },
  {
   "cell_type": "code",
   "execution_count": 4,
   "metadata": {},
   "outputs": [
    {
     "name": "stdout",
     "output_type": "stream",
     "text": [
      "0    0.8735\n",
      "1    0.1265\n",
      "Name: Luxury, dtype: float64\n"
     ]
    },
    {
     "name": "stderr",
     "output_type": "stream",
     "text": [
      "c:\\users\\15107\\appdata\\local\\programs\\python\\python37\\lib\\site-packages\\seaborn\\_decorators.py:43: FutureWarning: Pass the following variables as keyword args: x, y. From version 0.12, the only valid positional argument will be `data`, and passing other arguments without an explicit keyword will result in an error or misinterpretation.\n",
      "  FutureWarning\n"
     ]
    },
    {
     "data": {
      "image/png": "[encoded data removed]",
      "text/plain": [
       "<Figure size 432x288 with 1 Axes>"
      ]
     },
     "metadata": {
      "needs_background": "light"
     },
     "output_type": "display_data"
    }
   ],
   "source": [
    "target = df.Luxury.value_counts(normalize=True) \n",
    "print(target)\n",
    "sns.barplot(target.index, target.values)\n",
    "plt.title('Luxury')\n",
    "plt.ylabel('Percentage of category', fontsize=12);"
   ]
  },
  {
   "cell_type": "code",
   "execution_count": 5,
   "metadata": {},
   "outputs": [
    {
     "data": {
      "text/plain": [
       "Index(['Unnamed: 0', 'squareMeters', 'numberOfRooms', 'hasYard', 'hasPool',\n",
       "       'floors', 'cityCode', 'cityPartRange', 'numPrevOwners', 'made',\n",
       "       'isNewBuilt', 'hasStormProtector', 'basement', 'attic', 'garage',\n",
       "       'hasStorageRoom', 'hasGuestRoom', 'price', 'category', 'Luxury',\n",
       "       'PricePerSquareMeters', 'YearsOld'],\n",
       "      dtype='object')"
      ]
     },
     "execution_count": 5,
     "metadata": {},
     "output_type": "execute_result"
    }
   ],
   "source": [
    "df.columns"
   ]
  },
  {
   "cell_type": "code",
   "execution_count": 6,
   "metadata": {},
   "outputs": [],
   "source": [
    "def make_confusion_matrix(model, threshold=0.5):\n",
    "    y_predict = (model.predict_proba(X_test_sc)[:,1] >=threshold)\n",
    "    category_confusion = confusion_matrix(y_test, y_predict)\n",
    "    plt.figure(dpi=80)\n",
    "    sns.heatmap(category_confusion, cmap=plt.cm.Blues, annot=True, square=True, fmt='d',\n",
    "           xticklabels=['basic', 'luxury'],\n",
    "           yticklabels=['basic', 'luxury']);\n",
    "    plt.xlabel('prediction')\n",
    "    plt.ylabel('actual')"
   ]
  },
  {
   "cell_type": "code",
   "execution_count": 7,
   "metadata": {},
   "outputs": [
    {
     "data": {
      "text/plain": [
       "Luxury                  1.000000\n",
       "hasPool                 0.382995\n",
       "isNewBuilt              0.381237\n",
       "hasYard                 0.373987\n",
       "PricePerSquareMeters    0.033135\n",
       "made                    0.005399\n",
       "cityCode                0.003950\n",
       "hasGuestRoom            0.003110\n",
       "hasStorageRoom          0.002229\n",
       "hasStormProtector       0.002182\n",
       "numberOfRooms          -0.000442\n",
       "garage                 -0.002218\n",
       "cityPartRange          -0.003171\n",
       "floors                 -0.003827\n",
       "YearsOld               -0.005399\n",
       "attic                  -0.005729\n",
       "Unnamed: 0             -0.009246\n",
       "basement               -0.011310\n",
       "price                  -0.011399\n",
       "squareMeters           -0.011800\n",
       "numPrevOwners          -0.012843\n",
       "Name: Luxury, dtype: float64"
      ]
     },
     "execution_count": 7,
     "metadata": {},
     "output_type": "execute_result"
    }
   ],
   "source": [
    "import plotly.express as px\n",
    "corr = df.corr()\n",
    "\n",
    "corr['Luxury'].sort_values(ascending=False)"
   ]
  },
  {
   "cell_type": "markdown",
   "metadata": {},
   "source": [
    "# Subset 1"
   ]
  },
  {
   "cell_type": "code",
   "execution_count": 8,
   "metadata": {},
   "outputs": [
    {
     "data": {
      "text/html": [
       "<div>\n",
       "<style scoped>\n",
       "    .dataframe tbody tr th:only-of-type {\n",
       "        vertical-align: middle;\n",
       "    }\n",
       "\n",
       "    .dataframe tbody tr th {\n",
       "        vertical-align: top;\n",
       "    }\n",
       "\n",
       "    .dataframe thead th {\n",
       "        text-align: right;\n",
       "    }\n",
       "</style>\n",
       "<table border=\"1\" class=\"dataframe\">\n",
       "  <thead>\n",
       "    <tr style=\"text-align: right;\">\n",
       "      <th></th>\n",
       "      <th>Luxury</th>\n",
       "      <th>hasPool</th>\n",
       "      <th>isNewBuilt</th>\n",
       "      <th>hasYard</th>\n",
       "    </tr>\n",
       "  </thead>\n",
       "  <tbody>\n",
       "    <tr>\n",
       "      <th>0</th>\n",
       "      <td>0</td>\n",
       "      <td>1</td>\n",
       "      <td>0</td>\n",
       "      <td>0</td>\n",
       "    </tr>\n",
       "    <tr>\n",
       "      <th>1</th>\n",
       "      <td>1</td>\n",
       "      <td>1</td>\n",
       "      <td>1</td>\n",
       "      <td>1</td>\n",
       "    </tr>\n",
       "    <tr>\n",
       "      <th>2</th>\n",
       "      <td>0</td>\n",
       "      <td>1</td>\n",
       "      <td>0</td>\n",
       "      <td>0</td>\n",
       "    </tr>\n",
       "    <tr>\n",
       "      <th>3</th>\n",
       "      <td>0</td>\n",
       "      <td>0</td>\n",
       "      <td>0</td>\n",
       "      <td>0</td>\n",
       "    </tr>\n",
       "    <tr>\n",
       "      <th>4</th>\n",
       "      <td>1</td>\n",
       "      <td>1</td>\n",
       "      <td>1</td>\n",
       "      <td>1</td>\n",
       "    </tr>\n",
       "  </tbody>\n",
       "</table>\n",
       "</div>"
      ],
      "text/plain": [
       "   Luxury  hasPool  isNewBuilt  hasYard\n",
       "0       0        1           0        0\n",
       "1       1        1           1        1\n",
       "2       0        1           0        0\n",
       "3       0        0           0        0\n",
       "4       1        1           1        1"
      ]
     },
     "execution_count": 8,
     "metadata": {},
     "output_type": "execute_result"
    }
   ],
   "source": [
    "# subset of features\n",
    "subset_1 = df.loc[:,['Luxury','hasPool', 'isNewBuilt', 'hasYard']]\n",
    "subset_1.head()"
   ]
  },
  {
   "cell_type": "code",
   "execution_count": 9,
   "metadata": {},
   "outputs": [],
   "source": [
    "X, y = subset_1.drop(['Luxury'], axis=1), subset_1.Luxury\n",
    "\n",
    "X_train, X_test, y_train, y_test = train_test_split(X, y, test_size=0.2, random_state=42)\n",
    "\n",
    "scaler = StandardScaler()\n",
    "X_train_sc = scaler.fit_transform(X_train)\n",
    "X_test_sc = scaler.transform(X_test)"
   ]
  },
  {
   "cell_type": "code",
   "execution_count": 10,
   "metadata": {},
   "outputs": [
    {
     "name": "stdout",
     "output_type": "stream",
     "text": [
      "              precision    recall  f1-score   support\n",
      "\n",
      "           0       1.00      1.00      1.00      1744\n",
      "           1       1.00      1.00      1.00       256\n",
      "\n",
      "    accuracy                           1.00      2000\n",
      "   macro avg       1.00      1.00      1.00      2000\n",
      "weighted avg       1.00      1.00      1.00      2000\n",
      "\n"
     ]
    }
   ],
   "source": [
    "lr = LogisticRegression()\n",
    "lr.fit(X_train_sc, y_train)\n",
    "lr_pred = lr.predict(X_test_sc)\n",
    "lr_confusion = confusion_matrix(y_test, lr_pred)\n",
    "\n",
    "lr_ac = lr.score(X_test_sc, y_test)\n",
    "lr_precision = precision_score(y_test, lr_pred)\n",
    "lr_recall = recall_score(y_test, lr_pred)\n",
    "lr_f1 = f1_score(y_test, lr_pred)\n",
    "\n",
    "lr_y_score = lr.predict_proba(X_test_sc)[:,1]\n",
    "lr_fpr, lr_tpr, lr_auc_thresholds = roc_curve(y_test, lr_y_score)\n",
    "roc_auc_lr = auc(lr_fpr, lr_tpr)\n",
    "\n",
    "print(classification_report(y_test, lr_pred))"
   ]
  },
  {
   "cell_type": "code",
   "execution_count": 11,
   "metadata": {},
   "outputs": [
    {
     "name": "stdout",
     "output_type": "stream",
     "text": [
      "Logistic Regression validation metrics with subset 1: \n",
      " Accuracy: 1.0000 \n",
      " Precision: 1.0000 \n",
      " Recall: 1.0000 \n",
      " F1: 1.0000 \n",
      " ROC: 1.0000\n"
     ]
    }
   ],
   "source": [
    "print('Logistic Regression validation metrics with subset 1: \\n Accuracy: %.4f \\n Precision: %.4f \\n Recall: %.4f \\n F1: %.4f \\n ROC: %.4f' %\n",
    "        (lr_ac, \n",
    "         lr_precision, \n",
    "         lr_recall,\n",
    "         lr_f1,\n",
    "         roc_auc_lr)\n",
    "     )"
   ]
  },
  {
   "cell_type": "code",
   "execution_count": 12,
   "metadata": {},
   "outputs": [
    {
     "data": {
      "image/png": "[encoded data removed]",
      "text/plain": [
       "<Figure size 480x320 with 2 Axes>"
      ]
     },
     "metadata": {
      "needs_background": "light"
     },
     "output_type": "display_data"
    }
   ],
   "source": [
    "make_confusion_matrix(lr)"
   ]
  },
  {
   "cell_type": "markdown",
   "metadata": {},
   "source": [
    "# Subset 2"
   ]
  },
  {
   "cell_type": "code",
   "execution_count": 13,
   "metadata": {},
   "outputs": [
    {
     "data": {
      "text/html": [
       "<div>\n",
       "<style scoped>\n",
       "    .dataframe tbody tr th:only-of-type {\n",
       "        vertical-align: middle;\n",
       "    }\n",
       "\n",
       "    .dataframe tbody tr th {\n",
       "        vertical-align: top;\n",
       "    }\n",
       "\n",
       "    .dataframe thead th {\n",
       "        text-align: right;\n",
       "    }\n",
       "</style>\n",
       "<table border=\"1\" class=\"dataframe\">\n",
       "  <thead>\n",
       "    <tr style=\"text-align: right;\">\n",
       "      <th></th>\n",
       "      <th>Luxury</th>\n",
       "      <th>PricePerSquareMeters</th>\n",
       "      <th>made</th>\n",
       "      <th>hasGuestRoom</th>\n",
       "    </tr>\n",
       "  </thead>\n",
       "  <tbody>\n",
       "    <tr>\n",
       "      <th>0</th>\n",
       "      <td>0</td>\n",
       "      <td>100.089794</td>\n",
       "      <td>2005</td>\n",
       "      <td>7</td>\n",
       "    </tr>\n",
       "    <tr>\n",
       "      <th>1</th>\n",
       "      <td>1</td>\n",
       "      <td>100.110058</td>\n",
       "      <td>2015</td>\n",
       "      <td>2</td>\n",
       "    </tr>\n",
       "    <tr>\n",
       "      <th>2</th>\n",
       "      <td>0</td>\n",
       "      <td>100.061784</td>\n",
       "      <td>2021</td>\n",
       "      <td>9</td>\n",
       "    </tr>\n",
       "    <tr>\n",
       "      <th>3</th>\n",
       "      <td>0</td>\n",
       "      <td>100.029744</td>\n",
       "      <td>2012</td>\n",
       "      <td>3</td>\n",
       "    </tr>\n",
       "    <tr>\n",
       "      <th>4</th>\n",
       "      <td>1</td>\n",
       "      <td>100.172543</td>\n",
       "      <td>1990</td>\n",
       "      <td>4</td>\n",
       "    </tr>\n",
       "  </tbody>\n",
       "</table>\n",
       "</div>"
      ],
      "text/plain": [
       "   Luxury  PricePerSquareMeters  made  hasGuestRoom\n",
       "0       0            100.089794  2005             7\n",
       "1       1            100.110058  2015             2\n",
       "2       0            100.061784  2021             9\n",
       "3       0            100.029744  2012             3\n",
       "4       1            100.172543  1990             4"
      ]
     },
     "execution_count": 13,
     "metadata": {},
     "output_type": "execute_result"
    }
   ],
   "source": [
    "subset_2 = df.loc[:,['Luxury','PricePerSquareMeters', 'made', 'hasGuestRoom',]]\n",
    "subset_2.head()"
   ]
  },
  {
   "cell_type": "code",
   "execution_count": 14,
   "metadata": {},
   "outputs": [],
   "source": [
    "X, y = subset_2.drop(['Luxury'], axis=1), subset_2.Luxury\n",
    "\n",
    "X_train, X_test, y_train, y_test = train_test_split(X, y, test_size=0.2, random_state=42)\n",
    "\n",
    "scaler = StandardScaler()\n",
    "X_train_sc = scaler.fit_transform(X_train)\n",
    "X_test_sc = scaler.transform(X_test)"
   ]
  },
  {
   "cell_type": "code",
   "execution_count": 15,
   "metadata": {},
   "outputs": [
    {
     "name": "stdout",
     "output_type": "stream",
     "text": [
      "              precision    recall  f1-score   support\n",
      "\n",
      "           0       0.87      1.00      0.93      1744\n",
      "           1       0.00      0.00      0.00       256\n",
      "\n",
      "    accuracy                           0.87      2000\n",
      "   macro avg       0.44      0.50      0.47      2000\n",
      "weighted avg       0.76      0.87      0.81      2000\n",
      "\n"
     ]
    },
    {
     "name": "stderr",
     "output_type": "stream",
     "text": [
      "c:\\users\\15107\\appdata\\local\\programs\\python\\python37\\lib\\site-packages\\sklearn\\metrics\\_classification.py:1308: UndefinedMetricWarning: Precision is ill-defined and being set to 0.0 due to no predicted samples. Use `zero_division` parameter to control this behavior.\n",
      "  _warn_prf(average, modifier, msg_start, len(result))\n",
      "c:\\users\\15107\\appdata\\local\\programs\\python\\python37\\lib\\site-packages\\sklearn\\metrics\\_classification.py:1308: UndefinedMetricWarning: Precision and F-score are ill-defined and being set to 0.0 in labels with no predicted samples. Use `zero_division` parameter to control this behavior.\n",
      "  _warn_prf(average, modifier, msg_start, len(result))\n",
      "c:\\users\\15107\\appdata\\local\\programs\\python\\python37\\lib\\site-packages\\sklearn\\metrics\\_classification.py:1308: UndefinedMetricWarning: Precision and F-score are ill-defined and being set to 0.0 in labels with no predicted samples. Use `zero_division` parameter to control this behavior.\n",
      "  _warn_prf(average, modifier, msg_start, len(result))\n",
      "c:\\users\\15107\\appdata\\local\\programs\\python\\python37\\lib\\site-packages\\sklearn\\metrics\\_classification.py:1308: UndefinedMetricWarning: Precision and F-score are ill-defined and being set to 0.0 in labels with no predicted samples. Use `zero_division` parameter to control this behavior.\n",
      "  _warn_prf(average, modifier, msg_start, len(result))\n"
     ]
    }
   ],
   "source": [
    "lr2 = LogisticRegression(C=1000)\n",
    "lr2.fit(X_train_sc, y_train)\n",
    "lr2_pred = lr2.predict(X_test_sc)\n",
    "lr2_confusion = confusion_matrix(y_test, lr2_pred)\n",
    "\n",
    "lr2_ac = lr2.score(X_test_sc, y_test)\n",
    "lr2_precision = precision_score(y_test, lr2_pred)\n",
    "lr2_recall = recall_score(y_test, lr2_pred)\n",
    "lr2_f1 = f1_score(y_test, lr2_pred)\n",
    "\n",
    "lr2_y_score = lr2.predict_proba(X_test_sc)[:,1]\n",
    "lr2_fpr, lr2_tpr, lr2_auc_thresholds = roc_curve(y_test, lr2_y_score)\n",
    "roc_auc_lr2 = auc(lr2_fpr, lr2_tpr)\n",
    "\n",
    "print(classification_report(y_test, lr2_pred))"
   ]
  },
  {
   "cell_type": "code",
   "execution_count": 16,
   "metadata": {},
   "outputs": [
    {
     "name": "stdout",
     "output_type": "stream",
     "text": [
      "Logistic Regression validation metrics with subset 2: \n",
      " Accuracy: 0.8720 \n",
      " Precision: 0.0000 \n",
      " Recall: 0.0000 \n",
      " F1: 0.0000 \n",
      " ROC: 0.5167\n"
     ]
    }
   ],
   "source": [
    "print('Logistic Regression validation metrics with subset 2: \\n Accuracy: %.4f \\n Precision: %.4f \\n Recall: %.4f \\n F1: %.4f \\n ROC: %.4f' %\n",
    "        (lr2_ac, \n",
    "         lr2_precision, \n",
    "         lr2_recall,\n",
    "         lr2_f1,\n",
    "         roc_auc_lr2)\n",
    "     )"
   ]
  },
  {
   "cell_type": "code",
   "execution_count": 17,
   "metadata": {},
   "outputs": [
    {
     "data": {
      "image/png": "[encoded data removed]",
      "text/plain": [
       "<Figure size 480x320 with 2 Axes>"
      ]
     },
     "metadata": {
      "needs_background": "light"
     },
     "output_type": "display_data"
    }
   ],
   "source": [
    "make_confusion_matrix(lr2)"
   ]
  },
  {
   "cell_type": "markdown",
   "metadata": {},
   "source": [
    "# All features"
   ]
  },
  {
   "cell_type": "code",
   "execution_count": 18,
   "metadata": {},
   "outputs": [],
   "source": [
    "X, y = df.drop(['Luxury','cityCode','Unnamed: 0','category'], axis=1), df.Luxury\n",
    "\n",
    "X_train, X_test, y_train, y_test = train_test_split(X, y, test_size=0.2, random_state=42)\n",
    "\n",
    "scaler = StandardScaler()\n",
    "X_train_sc = scaler.fit_transform(X_train)\n",
    "X_test_sc = scaler.transform(X_test)"
   ]
  },
  {
   "cell_type": "code",
   "execution_count": 19,
   "metadata": {},
   "outputs": [
    {
     "name": "stdout",
     "output_type": "stream",
     "text": [
      "              precision    recall  f1-score   support\n",
      "\n",
      "           0       1.00      1.00      1.00      1744\n",
      "           1       1.00      1.00      1.00       256\n",
      "\n",
      "    accuracy                           1.00      2000\n",
      "   macro avg       1.00      1.00      1.00      2000\n",
      "weighted avg       1.00      1.00      1.00      2000\n",
      "\n"
     ]
    }
   ],
   "source": [
    "lr3 = LogisticRegression(C=1000) \n",
    "lr3.fit(X_train_sc, y_train)\n",
    "lr3_pred = lr3.predict(X_test_sc)\n",
    "lr3_confusion = confusion_matrix(y_test, lr3_pred)\n",
    "\n",
    "lr3_ac = lr3.score(X_test_sc, y_test)\n",
    "lr3_precision = precision_score(y_test, lr3_pred)\n",
    "lr3_recall = recall_score(y_test, lr3_pred)\n",
    "lr3_f1 = f1_score(y_test, lr3_pred)\n",
    "\n",
    "lr3_y_score = lr3.predict_proba(X_test_sc)[:,1]\n",
    "lr3_fpr, lr3_tpr, lr3_auc_thresholds = roc_curve(y_test, lr3_y_score)\n",
    "roc_auc_lr3 = auc(lr3_fpr, lr3_tpr)\n",
    "\n",
    "print(classification_report(y_test, lr3_pred))"
   ]
  },
  {
   "cell_type": "code",
   "execution_count": 20,
   "metadata": {},
   "outputs": [
    {
     "name": "stdout",
     "output_type": "stream",
     "text": [
      "Logistic Regression validation metrics with full dataset: \n",
      " Accuracy: 1.0000 \n",
      " Precision: 1.0000 \n",
      " Recall: 1.0000 \n",
      " F1: 1.0000 \n",
      " ROC: 1.0000\n"
     ]
    }
   ],
   "source": [
    "print('Logistic Regression validation metrics with full dataset: \\n Accuracy: %.4f \\n Precision: %.4f \\n Recall: %.4f \\n F1: %.4f \\n ROC: %.4f' %\n",
    "        (lr3_ac, \n",
    "         lr3_precision, \n",
    "         lr3_recall,\n",
    "         lr3_f1,\n",
    "         roc_auc_lr3)\n",
    "     )"
   ]
  },
  {
   "cell_type": "code",
   "execution_count": 21,
   "metadata": {},
   "outputs": [
    {
     "data": {
      "image/png": "[encoded data removed]",
      "text/plain": [
       "<Figure size 480x320 with 2 Axes>"
      ]
     },
     "metadata": {
      "needs_background": "light"
     },
     "output_type": "display_data"
    }
   ],
   "source": [
    "make_confusion_matrix(lr3)"
   ]
  },
  {
   "cell_type": "markdown",
   "metadata": {},
   "source": [
    "# Subset 3- Feature Without 'hasPool', 'isNewBuilt', 'hasYard'"
   ]
  },
  {
   "cell_type": "code",
   "execution_count": 22,
   "metadata": {},
   "outputs": [],
   "source": [
    "X, y = df.drop(['Luxury','cityCode','Unnamed: 0','category','hasPool', 'isNewBuilt', 'hasYard'], axis=1), df.Luxury\n",
    "\n",
    "X_train, X_test, y_train, y_test = train_test_split(X, y, test_size=0.2, random_state=42)\n",
    "\n",
    "scaler = StandardScaler()\n",
    "X_train_sc = scaler.fit_transform(X_train)\n",
    "X_test_sc = scaler.transform(X_test)"
   ]
  },
  {
   "cell_type": "code",
   "execution_count": 23,
   "metadata": {},
   "outputs": [
    {
     "name": "stdout",
     "output_type": "stream",
     "text": [
      "              precision    recall  f1-score   support\n",
      "\n",
      "           0       0.87      1.00      0.93      1744\n",
      "           1       0.00      0.00      0.00       256\n",
      "\n",
      "    accuracy                           0.87      2000\n",
      "   macro avg       0.44      0.50      0.47      2000\n",
      "weighted avg       0.76      0.87      0.81      2000\n",
      "\n"
     ]
    },
    {
     "name": "stderr",
     "output_type": "stream",
     "text": [
      "c:\\users\\15107\\appdata\\local\\programs\\python\\python37\\lib\\site-packages\\sklearn\\metrics\\_classification.py:1308: UndefinedMetricWarning: Precision is ill-defined and being set to 0.0 due to no predicted samples. Use `zero_division` parameter to control this behavior.\n",
      "  _warn_prf(average, modifier, msg_start, len(result))\n",
      "c:\\users\\15107\\appdata\\local\\programs\\python\\python37\\lib\\site-packages\\sklearn\\metrics\\_classification.py:1308: UndefinedMetricWarning: Precision and F-score are ill-defined and being set to 0.0 in labels with no predicted samples. Use `zero_division` parameter to control this behavior.\n",
      "  _warn_prf(average, modifier, msg_start, len(result))\n",
      "c:\\users\\15107\\appdata\\local\\programs\\python\\python37\\lib\\site-packages\\sklearn\\metrics\\_classification.py:1308: UndefinedMetricWarning: Precision and F-score are ill-defined and being set to 0.0 in labels with no predicted samples. Use `zero_division` parameter to control this behavior.\n",
      "  _warn_prf(average, modifier, msg_start, len(result))\n",
      "c:\\users\\15107\\appdata\\local\\programs\\python\\python37\\lib\\site-packages\\sklearn\\metrics\\_classification.py:1308: UndefinedMetricWarning: Precision and F-score are ill-defined and being set to 0.0 in labels with no predicted samples. Use `zero_division` parameter to control this behavior.\n",
      "  _warn_prf(average, modifier, msg_start, len(result))\n"
     ]
    }
   ],
   "source": [
    "lr4 = LogisticRegression(C=1000) #no regularization\n",
    "lr4.fit(X_train_sc, y_train)\n",
    "lr4_pred = lr4.predict(X_test_sc)\n",
    "lr4_confusion = confusion_matrix(y_test, lr4_pred)\n",
    "\n",
    "lr4_ac = lr4.score(X_test_sc, y_test)\n",
    "lr4_precision = precision_score(y_test, lr4_pred)\n",
    "lr4_recall = recall_score(y_test, lr4_pred)\n",
    "lr4_f1 = f1_score(y_test, lr4_pred)\n",
    "\n",
    "lr4_y_score = lr4.predict_proba(X_test_sc)[:,1]\n",
    "lr4_fpr, lr4_tpr, lr4_auc_thresholds = roc_curve(y_test, lr4_y_score)\n",
    "roc_auc_lr4 = auc(lr4_fpr, lr4_tpr)\n",
    "\n",
    "print(classification_report(y_test, lr4_pred))"
   ]
  },
  {
   "cell_type": "code",
   "execution_count": 24,
   "metadata": {},
   "outputs": [
    {
     "name": "stdout",
     "output_type": "stream",
     "text": [
      "Logistic Regression validation metrics with Subset4: \n",
      " Accuracy: 0.8720 \n",
      " Precision: 0.0000 \n",
      " Recall: 0.0000 \n",
      " F1: 0.0000 \n",
      " ROC: 0.8308\n"
     ]
    }
   ],
   "source": [
    "print('Logistic Regression validation metrics with Subset4: \\n Accuracy: %.4f \\n Precision: %.4f \\n Recall: %.4f \\n F1: %.4f \\n ROC: %.4f' %\n",
    "        (lr4_ac, \n",
    "         lr4_precision, \n",
    "         lr4_recall,\n",
    "         lr4_f1,\n",
    "         roc_auc_lr4)\n",
    "     )"
   ]
  },
  {
   "cell_type": "code",
   "execution_count": 25,
   "metadata": {},
   "outputs": [
    {
     "data": {
      "image/png": "[encoded data removed]",
      "text/plain": [
       "<Figure size 480x320 with 2 Axes>"
      ]
     },
     "metadata": {
      "needs_background": "light"
     },
     "output_type": "display_data"
    }
   ],
   "source": [
    "make_confusion_matrix(lr4)"
   ]
  },
  {
   "cell_type": "code",
   "execution_count": 26,
   "metadata": {},
   "outputs": [
    {
     "data": {
      "image/png": "[encoded data removed]",
      "text/plain": [
       "<Figure size 360x360 with 1 Axes>"
      ]
     },
     "metadata": {
      "needs_background": "light"
     },
     "output_type": "display_data"
    }
   ],
   "source": [
    "plt.figure(figsize=(5,5))\n",
    "lw = 2\n",
    "plt.plot(lr_fpr, lr_tpr, color='black', lw=lw, \n",
    "         label='subset 1 (area= %0.2f)' %roc_auc_lr)\n",
    "plt.plot(lr2_fpr, lr2_tpr, color='blue', lw=lw, \n",
    "         label='subset 2 (area= %0.2f)' %roc_auc_lr2)\n",
    "plt.plot(lr3_fpr, lr3_tpr, color='green', lw=lw, \n",
    "         label='full data (area= %0.2f)' %roc_auc_lr3)\n",
    "plt.plot(lr4_fpr, lr4_tpr, color='green', lw=lw, \n",
    "         label='subset 3 (area= %0.2f)' %roc_auc_lr4)\n",
    "plt.plot([0,1],[0,1],c='violet',ls='--')\n",
    "plt.xlim([-0.05,1.05])\n",
    "plt.ylim([-0.05,1.05])\n",
    "\n",
    "\n",
    "plt.xlabel('False positive rate')\n",
    "plt.ylabel('True positive rate')\n",
    "plt.title('ROC curve')\n",
    "plt.legend(loc='lower right');"
   ]
  },
  {
   "cell_type": "code",
   "execution_count": null,
   "metadata": {},
   "outputs": [],
   "source": []
  }
 ],
 "metadata": {
  "kernelspec": {
   "display_name": "Python 3",
   "language": "python",
   "name": "python3"
  },
  "language_info": {
   "codemirror_mode": {
    "name": "ipython",
    "version": 3
   },
   "file_extension": ".py",
   "mimetype": "text/x-python",
   "name": "python",
   "nbconvert_exporter": "python",
   "pygments_lexer": "ipython3",
   "version": "3.7.8rc1"
  }
 },
 "nbformat": 4,
 "nbformat_minor": 4
}
